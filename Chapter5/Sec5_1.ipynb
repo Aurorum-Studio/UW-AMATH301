{
 "cells": [
  {
   "cell_type": "code",
   "execution_count": 4,
   "id": "2e66e6f1",
   "metadata": {},
   "outputs": [
    {
     "name": "stdout",
     "output_type": "stream",
     "text": [
      "Optimal interval: [ -1.274178049042595 , -1.2741770524804021 ]\n"
     ]
    }
   ],
   "source": [
    "import numpy as np\n",
    "\n",
    "\n",
    "a = -2; b = 1 # Initial interval\n",
    "\n",
    "# Golden section\n",
    "c = (-1 + np.sqrt(5)) / 2\n",
    "\n",
    "# Initial guesses for x1 and x2\n",
    "x1 = c * a + (1 - c) * b\n",
    "x2 = (1 - c) * a + c * b\n",
    "\n",
    "# Evaluate the functions at initial guesses\n",
    "f1 = x1**4 + 10 * x1 * np.sin(x1**2)\n",
    "f2 = x2**4 + 10 * x2 * np.sin(x2**2)\n",
    "\n",
    "# Loop for optimization\n",
    "for j in range(100):\n",
    "    if f1 < f2:  # Move right boundary        \n",
    "        b = x2; x2 = x1; f2 = f1\n",
    "        x1 = c * a + (1 - c) * b\n",
    "        f1 = x1**4 + 10 * x1 * np.sin(x1**2)\n",
    "    else:   # Move left boundary        \n",
    "        a = x1; x1 = x2; f1 = f2\n",
    "        x2 = (1 - c) * a + c * b\n",
    "        f2 = x2**4 + 10 * x2 * np.sin(x2**2)\n",
    "\n",
    "    if (b - a) < 10**(-6):\n",
    "        # Break if close\n",
    "        break\n",
    "\n",
    "print(\"Optimal interval: [\", a, \",\", b, \"]\")\n"
   ]
  },
  {
   "cell_type": "code",
   "execution_count": 14,
   "id": "6723336b",
   "metadata": {},
   "outputs": [
    {
     "name": "stdout",
     "output_type": "stream",
     "text": [
      "Optimal x: -1.2741770030849715\n"
     ]
    }
   ],
   "source": [
    "import numpy as np\n",
    "x1 = -1.5; x2 = -1; x3 = -0.5  # Initial guesses\n",
    "\n",
    "f1 = x1**4 + 10 * x1 * np.sin(x1**2)\n",
    "f2 = x2**4 + 10 * x2 * np.sin(x2**2)\n",
    "f3 = x3**4 + 10 * x3 * np.sin(x3**2)\n",
    "\n",
    "for j in range(100):\n",
    "    x0 = (x1 + x2) / 2 - ((f2 - f1) * (x3 - x1) * (x3 - x2)) / (2 * \n",
    "                    ((x2 - x1) * (f3 - f2) - (f2 - f1) * (x3 - x2)))\n",
    "\n",
    "    if x0 > x2:\n",
    "        x1 = x2; f1 = f2; x2 = x0\n",
    "        f2 = x0**4 + 10 * x0 * np.sin(x0**2)\n",
    "    else:\n",
    "        x3 = x2; f3 = f2; x2 = x0\n",
    "        f2 = x0**4 + 10 * x0 * np.sin(x0**2)\n",
    "\n",
    "    if abs(x2 - x3) < 10**(-6) or abs(x2 - x1) < 10**(-6):\n",
    "        break\n",
    "\n",
    "print(\"Optimal x:\", x2)\n"
   ]
  },
  {
   "cell_type": "code",
   "execution_count": null,
   "id": "e99de2b3",
   "metadata": {},
   "outputs": [],
   "source": []
  },
  {
   "cell_type": "code",
   "execution_count": null,
   "id": "05e1fc8f",
   "metadata": {},
   "outputs": [],
   "source": []
  }
 ],
 "metadata": {
  "kernelspec": {
   "display_name": "Python 3 (ipykernel)",
   "language": "python",
   "name": "python3"
  },
  "language_info": {
   "codemirror_mode": {
    "name": "ipython",
    "version": 3
   },
   "file_extension": ".py",
   "mimetype": "text/x-python",
   "name": "python",
   "nbconvert_exporter": "python",
   "pygments_lexer": "ipython3",
   "version": "3.11.3"
  }
 },
 "nbformat": 4,
 "nbformat_minor": 5
}
