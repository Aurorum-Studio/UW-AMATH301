{
 "cells": [
  {
   "cell_type": "code",
   "execution_count": 4,
   "id": "6f9eece3",
   "metadata": {},
   "outputs": [
    {
     "name": "stdout",
     "output_type": "stream",
     "text": [
      "Optimal x: 1.3669762341164496e-14\n",
      "Optimal y: 1.3669762341164496e-14\n"
     ]
    }
   ],
   "source": [
    "import numpy as np\n",
    "\n",
    "x = np.zeros(101); y=x; f=x\n",
    "x[0] = 3; y[0] = 2\n",
    "f[0] = x[0]**2 + 3 * y[0]**2\n",
    "\n",
    "for j in range(100):\n",
    "    tau = (x[j]**2 + 9 * y[j]**2) / (2 * x[j]**2 + 54 * y[j]**2)\n",
    "    x[j+1] = (1 - 2 * tau) * x[j]\n",
    "    y[j+1] = (1 - 6 * tau) * y[j]\n",
    "    f[j+1] = x[j+1]**2 + 3 * y[j+1]**2\n",
    "\n",
    "    if abs(f[j+1] - f[j]) < 10**(-6):\n",
    "        break\n",
    "\n",
    "print(\"Optimal x:\", x[j+1])\n",
    "print(\"Optimal y:\", y[j+1])\n"
   ]
  },
  {
   "cell_type": "code",
   "execution_count": 5,
   "id": "d3120ecb",
   "metadata": {},
   "outputs": [
    {
     "name": "stdout",
     "output_type": "stream",
     "text": [
      "Optimal x: 0.00031021360527419805\n",
      "Optimal y: -5.1702267545699754e-05\n"
     ]
    }
   ],
   "source": [
    "x = [3]; y = [2]\n",
    "f = [x[0]**2 + 3 * y[0]**2]\n",
    "\n",
    "# Loop for optimization\n",
    "for j in range(100):\n",
    "    tau = (x[j]**2 + 9 * y[j]**2) / (2 * x[j]**2 + 54 * y[j]**2)\n",
    "    x.append((1 - 2 * tau) * x[j])\n",
    "    y.append((1 - 6 * tau) * y[j])\n",
    "    f.append(x[j+1]**2 + 3 * y[j+1]**2)\n",
    "\n",
    "    if abs(f[j+1] - f[j]) < 10**(-6):\n",
    "        break\n",
    "\n",
    "print(\"Optimal x:\", x[-1])\n",
    "print(\"Optimal y:\", y[-1])"
   ]
  },
  {
   "cell_type": "code",
   "execution_count": 9,
   "id": "48acdbcf",
   "metadata": {},
   "outputs": [
    {
     "name": "stdout",
     "output_type": "stream",
     "text": [
      "Optimal parameters: [14.61213856  0.21453582 62.98772891]\n"
     ]
    }
   ],
   "source": [
    "import numpy as np\n",
    "from scipy.optimize import minimize\n",
    "\n",
    "def tempfit(c, x, y):\n",
    "    e2 = np.sqrt(np.sum((c[0] * np.cos(c[1] * x) + c[2] - y) ** 2) / 24)\n",
    "    return e2\n",
    "\n",
    "x = np.arange(1, 25)\n",
    "y = np.array([75, 77, 76, 73, 69, 68, 63, 59, 57, 55, 54, 52, 50,\n",
    "              50, 49, 49, 49, 50, 54, 56, 59, 63, 67, 72])\n",
    "\n",
    "c0 = [12, np.pi/12, 63]  # Initial guess\n",
    "result = minimize(tempfit, c0, args=(x, y), method='Nelder-Mead')\n",
    "optimal_params = result.x\n",
    "\n",
    "print(\"Optimal parameters:\", optimal_params)\n"
   ]
  },
  {
   "cell_type": "raw",
   "id": "783beebd",
   "metadata": {},
   "source": []
  },
  {
   "cell_type": "code",
   "execution_count": null,
   "id": "6eef8068",
   "metadata": {},
   "outputs": [],
   "source": []
  }
 ],
 "metadata": {
  "kernelspec": {
   "display_name": "Python 3 (ipykernel)",
   "language": "python",
   "name": "python3"
  },
  "language_info": {
   "codemirror_mode": {
    "name": "ipython",
    "version": 3
   },
   "file_extension": ".py",
   "mimetype": "text/x-python",
   "name": "python",
   "nbconvert_exporter": "python",
   "pygments_lexer": "ipython3",
   "version": "3.11.3"
  }
 },
 "nbformat": 4,
 "nbformat_minor": 5
}
