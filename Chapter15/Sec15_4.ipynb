{
 "cells": [
  {
   "cell_type": "code",
   "execution_count": 4,
   "id": "830a6746",
   "metadata": {},
   "outputs": [],
   "source": [
    "import numpy as np\n",
    "\n",
    "# Assuming X is your data matrix\n",
    "X = np.random.rand(10,10)\n",
    "\n",
    "m, n = X.shape\n",
    "mn = np.mean(X, axis=1)\n",
    "X = X - mn[:, np.newaxis]\n",
    "\n",
    "Cx = (1 / (n - 1)) * np.dot(X, X.T)\n",
    "D, V = np.linalg.eig(Cx)\n",
    "lambda_vals = np.diag(D)\n",
    "\n",
    "m_arrange = np.argsort(-lambda_vals) # Sort in decreasing order\n",
    "lambda_vals = lambda_vals[m_arrange]\n",
    "V = V[:, m_arrange]\n",
    "Y = np.dot(V.T, X) # compute projection\n",
    "\n"
   ]
  },
  {
   "cell_type": "code",
   "execution_count": 5,
   "id": "002bda6e",
   "metadata": {},
   "outputs": [],
   "source": [
    "\n",
    "u, s, vh = np.linalg.svd(X.T / np.sqrt(n - 1))\n",
    "lambda_vals = np.diag(s) ** 2\n",
    "Y = np.dot(u.T, X)\n"
   ]
  },
  {
   "cell_type": "code",
   "execution_count": null,
   "id": "e71fc60d",
   "metadata": {},
   "outputs": [],
   "source": []
  }
 ],
 "metadata": {
  "kernelspec": {
   "display_name": "Python 3 (ipykernel)",
   "language": "python",
   "name": "python3"
  },
  "language_info": {
   "codemirror_mode": {
    "name": "ipython",
    "version": 3
   },
   "file_extension": ".py",
   "mimetype": "text/x-python",
   "name": "python",
   "nbconvert_exporter": "python",
   "pygments_lexer": "ipython3",
   "version": "3.11.3"
  }
 },
 "nbformat": 4,
 "nbformat_minor": 5
}
