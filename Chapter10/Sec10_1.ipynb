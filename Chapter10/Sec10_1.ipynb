{
 "cells": [
  {
   "cell_type": "code",
   "execution_count": 3,
   "id": "02d21f65",
   "metadata": {},
   "outputs": [],
   "source": [
    "import numpy as np\n",
    "from scipy.sparse import diags\n",
    "from scipy.integrate import odeint\n",
    "\n",
    "tspan = np.arange(0, 2.2, 0.2) # Define time span\n",
    "\n",
    "n = 100 # Parameters\n",
    "k = 1\n",
    "L = 20\n",
    "\n",
    "x2 = np.linspace(-L/2, L/2, n+1) # Spatial domain \n",
    "x = x2[:n]\n",
    "dx = x[1] - x[0]\n",
    "\n",
    "e1 = np.ones(n) # Build a vector of ones\n",
    "diagonals = [e1, -2*e1, e1]\n",
    "offsets = [-1, 0, 1]\n",
    "A = diags(diagonals, offsets, shape=(n, n), format='csr')\n",
    "A[0, n-1] = 1 # Periodic boundaries\n",
    "A[n-1, 0] = 1\n",
    "\n",
    "def rhs(u, t, k, dx, A):   # Define the right-hand side\n",
    "    return (k / dx**2) * A.dot(u)\n",
    "\n",
    "u0 = np.exp(-x**2) # Initial condition\n",
    "y = odeint(rhs, u0, tspan, args=(k, dx, A)) # Solve ODE\n"
   ]
  },
  {
   "cell_type": "code",
   "execution_count": 6,
   "id": "f47dcd4c",
   "metadata": {},
   "outputs": [],
   "source": [
    "import numpy as np\n",
    "\n",
    "# Parameters\n",
    "Lx = 20    # spatial domain of x\n",
    "Ly = 20    # spatial domain of y\n",
    "nx = 100   # number of discretization points in x\n",
    "ny = 100   # number of discretization points in y\n",
    "N = nx * ny   # elements in reshaped initial condition\n",
    "\n",
    "x2 = np.linspace(-Lx/2, Lx/2, nx+1) # x domain\n",
    "x = x2[:nx]   \n",
    "y2 = np.linspace(-Ly/2, Ly/2, ny+1) # y domain\n",
    "y = y2[:ny]  \n",
    "X, Y = np.meshgrid(x, y)  # make 2D\n",
    "\n",
    "U = np.exp(-X**2 - Y**2) # Generate a Gaussian matrix\n",
    "u = U.flatten()[:N].reshape(N, 1) # Reshape into a vector\n",
    "\n"
   ]
  },
  {
   "cell_type": "code",
   "execution_count": null,
   "id": "dd566182",
   "metadata": {},
   "outputs": [],
   "source": []
  }
 ],
 "metadata": {
  "kernelspec": {
   "display_name": "Python 3 (ipykernel)",
   "language": "python",
   "name": "python3"
  },
  "language_info": {
   "codemirror_mode": {
    "name": "ipython",
    "version": 3
   },
   "file_extension": ".py",
   "mimetype": "text/x-python",
   "name": "python",
   "nbconvert_exporter": "python",
   "pygments_lexer": "ipython3",
   "version": "3.11.3"
  }
 },
 "nbformat": 4,
 "nbformat_minor": 5
}
