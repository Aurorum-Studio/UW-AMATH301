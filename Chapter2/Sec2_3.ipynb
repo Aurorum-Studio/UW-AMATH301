{
 "cells": [
  {
   "cell_type": "markdown",
   "metadata": {},
   "source": [
    "Section 2.3:  Gradient Descent"
   ]
  },
  {
   "cell_type": "code",
   "execution_count": 22,
   "metadata": {},
   "outputs": [
    {
     "name": "stdout",
     "output_type": "stream",
     "text": [
      "Optimization terminated successfully.\n",
      "         Current function value: -8.596457\n",
      "         Iterations: 11\n",
      "         Function evaluations: 22\n",
      "Optimization terminated successfully.\n",
      "         Current function value: -9.805956\n",
      "         Iterations: 15\n",
      "         Function evaluations: 30\n",
      "Optimization terminated successfully.\n",
      "         Current function value: -9.992862\n",
      "         Iterations: 12\n",
      "         Function evaluations: 24\n",
      "Optimization terminated successfully.\n",
      "         Current function value: -9.994555\n",
      "         Iterations: 10\n",
      "         Function evaluations: 20\n",
      "Optimization terminated successfully.\n",
      "         Current function value: -9.998354\n",
      "         Iterations: 11\n",
      "         Function evaluations: 22\n",
      "Optimization terminated successfully.\n",
      "         Current function value: -9.999764\n",
      "         Iterations: 8\n",
      "         Function evaluations: 16\n",
      "Optimization terminated successfully.\n",
      "         Current function value: -9.999969\n",
      "         Iterations: 13\n",
      "         Function evaluations: 26\n",
      "Optimization terminated successfully.\n",
      "         Current function value: -9.999999\n",
      "         Iterations: 12\n",
      "         Function evaluations: 24\n",
      "Optimization terminated successfully.\n",
      "         Current function value: -10.000000\n",
      "         Iterations: 10\n",
      "         Function evaluations: 20\n",
      "[2.0004357]\n",
      "[-2.00015396]\n"
     ]
    },
    {
     "data": {
      "text/plain": [
       "(0.0, 3.0, -3.0, 1.0)"
      ]
     },
     "execution_count": 22,
     "metadata": {},
     "output_type": "execute_result"
    },
    {
     "data": {
      "image/png": "[encoded data removed]",
      "text/plain": [
       "<Figure size 576x504 with 1 Axes>"
      ]
     },
     "metadata": {},
     "output_type": "display_data"
    }
   ],
   "source": [
    "import numpy as np\n",
    "from scipy import optimize\n",
    "import matplotlib.pyplot as plt\n",
    "\n",
    "# define optimization\n",
    "def tausearch(tau):\n",
    "    x0 = x - tau*(3*x + 2*y - 2)\n",
    "    y0 = y - tau*(2*x + 6*y + 8)\n",
    "    mintau = (3/2)*x0*x0+2*x0*y0+3*y0*y0-2*x0+8*y0        \n",
    "    return mintau\n",
    "\n",
    "x = 1     # initial guesses for x and y\n",
    "y = -0.2\n",
    "f = (3/2)*x*x+2*x*y+3*y*y-2*x+8*y\n",
    "\n",
    "# track values\n",
    "xval = np.array(x)\n",
    "yval = np.array(y)\n",
    "\n",
    "\n",
    "for j in range(0,100):\n",
    "    \n",
    "    tau = optimize.fmin(tausearch,0.2)                    \n",
    "\n",
    "    x = x - tau*(3*x + 2*y - 2)\n",
    "    y = y - tau*(2*x + 6*y + 8)\n",
    "    fold = f\n",
    "    f = (3/2)*x*x+2*x*y+3*y*y-2*x+8*y\n",
    "    \n",
    "    xval = np.append(xval, x)\n",
    "    yval = np.append(yval, y)\n",
    "    \n",
    "    if abs(f-fold) < 1e-5:\n",
    "        break\n",
    "        \n",
    "print(x)\n",
    "print(y)\n",
    "\n",
    "plt.plot(xval,yval)\n",
    "plt.axis([0, 3, -3, 1])\n",
    "\n"
   ]
  },
  {
   "cell_type": "code",
   "execution_count": null,
   "metadata": {},
   "outputs": [],
   "source": []
  }
 ],
 "metadata": {
  "kernelspec": {
   "display_name": "Python 3 (ipykernel)",
   "language": "python",
   "name": "python3"
  },
  "language_info": {
   "codemirror_mode": {
    "name": "ipython",
    "version": 3
   },
   "file_extension": ".py",
   "mimetype": "text/x-python",
   "name": "python",
   "nbconvert_exporter": "python",
   "pygments_lexer": "ipython3",
   "version": "3.11.3"
  }
 },
 "nbformat": 4,
 "nbformat_minor": 4
}
