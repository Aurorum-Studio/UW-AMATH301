{
 "cells": [
  {
   "cell_type": "code",
   "execution_count": 1,
   "metadata": {},
   "outputs": [
    {
     "name": "stdout",
     "output_type": "stream",
     "text": [
      "10\n",
      "1.9999818725585938\n",
      "3.999993408203125\n",
      "3.0000092285156246\n"
     ]
    }
   ],
   "source": [
    "import numpy as np\n",
    "\n",
    "# Jacobi iterations\n",
    "x = np.array([0]); y = np.array([0]); z = np.array([0])\n",
    "for j in range(100):\n",
    "    x = np.append( x, (7+y[j]-z[j])/4 )\n",
    "    y = np.append( y, (21+4*x[j]+z[j])/8 )\n",
    "    z = np.append( z, (15+2*x[j]-y[j])/5 )\n",
    "\n",
    "    if abs(x[j+1]-x[j]) < 1e-5:\n",
    "        break\n",
    "\n",
    "\n",
    "print(j)    \n",
    "print(x[j + 1])\n",
    "print(y[j + 1])\n",
    "print(z[j + 1])\n",
    "\n"
   ]
  },
  {
   "cell_type": "code",
   "execution_count": null,
   "metadata": {},
   "outputs": [],
   "source": []
  }
 ],
 "metadata": {
  "kernelspec": {
   "display_name": "Python 3 (ipykernel)",
   "language": "python",
   "name": "python3"
  },
  "language_info": {
   "codemirror_mode": {
    "name": "ipython",
    "version": 3
   },
   "file_extension": ".py",
   "mimetype": "text/x-python",
   "name": "python",
   "nbconvert_exporter": "python",
   "pygments_lexer": "ipython3",
   "version": "3.11.3"
  }
 },
 "nbformat": 4,
 "nbformat_minor": 4
}
