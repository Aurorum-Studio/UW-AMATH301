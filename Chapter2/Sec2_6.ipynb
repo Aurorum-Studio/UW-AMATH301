{
 "cells": [
  {
   "cell_type": "markdown",
   "metadata": {},
   "source": [
    "Section 2.6:  Linear Systems of Equations"
   ]
  },
  {
   "cell_type": "markdown",
   "metadata": {},
   "source": [
    "Basic Solving of Ax=b"
   ]
  },
  {
   "cell_type": "code",
   "execution_count": 16,
   "metadata": {},
   "outputs": [
    {
     "data": {
      "text/plain": [
       "array([[ 7.],\n",
       "       [-8.],\n",
       "       [ 2.]])"
      ]
     },
     "metadata": {},
     "output_type": "display_data"
    }
   ],
   "source": [
    "import numpy as np\n",
    "\n",
    "# define a 3x3 matrix\n",
    "A = np.array([[1,1,1],[1,2,4],[1,3,9]])\n",
    "b = np.array([[1],[-1],[1]])\n",
    "\n",
    "x = np.linalg.solve(A,b)\n",
    "\n",
    "display(x)"
   ]
  },
  {
   "cell_type": "markdown",
   "metadata": {},
   "source": [
    "LU Decomposition of a matrix"
   ]
  },
  {
   "cell_type": "code",
   "execution_count": 7,
   "metadata": {},
   "outputs": [
    {
     "data": {
      "text/plain": [
       "array([[1., 0., 0.],\n",
       "       [0., 0., 1.],\n",
       "       [0., 1., 0.]])"
      ]
     },
     "metadata": {},
     "output_type": "display_data"
    },
    {
     "data": {
      "text/plain": [
       "array([[1. , 0. , 0. ],\n",
       "       [1. , 1. , 0. ],\n",
       "       [1. , 0.5, 1. ]])"
      ]
     },
     "metadata": {},
     "output_type": "display_data"
    },
    {
     "data": {
      "text/plain": [
       "array([[ 1.,  1.,  1.],\n",
       "       [ 0.,  2.,  8.],\n",
       "       [ 0.,  0., -1.]])"
      ]
     },
     "metadata": {},
     "output_type": "display_data"
    },
    {
     "data": {
      "text/plain": [
       "array([[ 1.],\n",
       "       [ 0.],\n",
       "       [-2.]])"
      ]
     },
     "metadata": {},
     "output_type": "display_data"
    },
    {
     "data": {
      "text/plain": [
       "array([[ 7.],\n",
       "       [-8.],\n",
       "       [ 2.]])"
      ]
     },
     "metadata": {},
     "output_type": "display_data"
    }
   ],
   "source": [
    "import scipy\n",
    "import scipy.linalg\n",
    "\n",
    "# the LU decomposition\n",
    "P, L, U = scipy.linalg.lu(A)\n",
    "\n",
    "# solving with the decomposition\n",
    "b2 = np.matmul(P, b)\n",
    "y = np.linalg.solve(L,b2)\n",
    "x = np.linalg.solve(U,y)\n",
    "\n",
    "display(P)\n",
    "display(L)\n",
    "display(U)\n",
    "\n",
    "display(y)\n",
    "display(x)\n"
   ]
  },
  {
   "cell_type": "code",
   "execution_count": null,
   "metadata": {},
   "outputs": [],
   "source": [
    "\n"
   ]
  },
  {
   "cell_type": "code",
   "execution_count": 20,
   "metadata": {},
   "outputs": [
    {
     "name": "stdout",
     "output_type": "stream",
     "text": [
      "x = [-0.37830658  0.81075482]\n"
     ]
    }
   ],
   "source": [
    "import numpy as np\n",
    "\n",
    "x = np.array([0, 0], dtype=float)\n",
    "\n",
    "for j in range(1000):\n",
    "    J = np.array([[2 + 3*x[0]**2, 1],\n",
    "                  [1 + x[1] + np.exp(x[0]), x[0]]])\n",
    "    f = np.array([2*x[0] + x[1] + x[0]**3, x[0] + x[0]*x[1] + np.exp(x[0])])\n",
    "\n",
    "    if np.linalg.norm(f) < 10**(-6):\n",
    "        break\n",
    "\n",
    "    df = -np.linalg.solve(J, f)\n",
    "    x = x + df\n",
    "\n",
    "print(\"x =\", x)\n"
   ]
  },
  {
   "cell_type": "code",
   "execution_count": 17,
   "metadata": {},
   "outputs": [
    {
     "name": "stdout",
     "output_type": "stream",
     "text": [
      "x = [-0.37830658  0.81075482]\n"
     ]
    }
   ],
   "source": [
    "import numpy as np\n",
    "from scipy.optimize import fsolve\n",
    "\n",
    "def system(x):\n",
    "    f = np.array([2*x[0] + x[1] + x[0]**3,\n",
    "                  x[0] + x[0]*x[1] + np.exp(x[0])])\n",
    "    return f\n",
    "\n",
    "x_initial_guess = np.array([0, 0])\n",
    "\n",
    "x_solution = fsolve(system, x_initial_guess)\n",
    "\n",
    "print(\"x =\", x_solution)\n"
   ]
  },
  {
   "cell_type": "code",
   "execution_count": null,
   "metadata": {},
   "outputs": [],
   "source": []
  }
 ],
 "metadata": {
  "kernelspec": {
   "display_name": "Python 3 (ipykernel)",
   "language": "python",
   "name": "python3"
  },
  "language_info": {
   "codemirror_mode": {
    "name": "ipython",
    "version": 3
   },
   "file_extension": ".py",
   "mimetype": "text/x-python",
   "name": "python",
   "nbconvert_exporter": "python",
   "pygments_lexer": "ipython3",
   "version": "3.11.3"
  }
 },
 "nbformat": 4,
 "nbformat_minor": 4
}
