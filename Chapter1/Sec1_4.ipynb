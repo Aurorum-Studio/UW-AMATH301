{
 "cells": [
  {
   "cell_type": "markdown",
   "metadata": {},
   "source": [
    "Making Functions in python"
   ]
  },
  {
   "cell_type": "code",
   "execution_count": 3,
   "metadata": {},
   "outputs": [
    {
     "data": {
      "text/plain": [
       "1.8414709848078965"
      ]
     },
     "metadata": {},
     "output_type": "display_data"
    },
    {
     "data": {
      "text/plain": [
       "array([  0.        ,   1.84147098,   8.90929743,  27.14112001,\n",
       "        63.2431975 , 124.04107573, 215.7205845 , 343.6569866 ,\n",
       "       512.98935825, 729.41211849, 999.45597889])"
      ]
     },
     "metadata": {},
     "output_type": "display_data"
    }
   ],
   "source": [
    "import numpy as np\n",
    "\n",
    "def myfun(x):    \n",
    "    y = x**3 + np.sin(x)\n",
    "    return y\n",
    "\n",
    "\n",
    "# single input to the function\n",
    "out1 = myfun(1)\n",
    "\n",
    "# vector of inputs to the function\n",
    "x = np.arange(0,11,1)\n",
    "out2 = myfun(x)\n",
    "\n",
    "display(out1)\n",
    "display(out2)"
   ]
  },
  {
   "cell_type": "code",
   "execution_count": 5,
   "metadata": {},
   "outputs": [
    {
     "data": {
      "text/plain": [
       "(-0.970375821283421, 3.5838531634528574)"
      ]
     },
     "metadata": {},
     "output_type": "display_data"
    },
    {
     "data": {
      "text/plain": [
       "array([-0.97037582,  0.98041359, -0.80179334])"
      ]
     },
     "metadata": {},
     "output_type": "display_data"
    },
    {
     "data": {
      "text/plain": [
       "3.5838531634528574"
      ]
     },
     "metadata": {},
     "output_type": "display_data"
    }
   ],
   "source": [
    "def funcA(x,A):    \n",
    "    B = A**2 + np.cos(A)\n",
    "    fA = np.sin(B*x)\n",
    "    \n",
    "    return fA,B\n",
    "\n",
    "\n",
    "# multiple inputs and outputs for a function\n",
    "out3 = funcA(3,2)\n",
    "fA, B = funcA(np.array([3, 4, 5]), 2)\n",
    "display(out3)\n",
    "display(fA)\n",
    "display(B)\n"
   ]
  },
  {
   "cell_type": "code",
   "execution_count": 6,
   "metadata": {},
   "outputs": [
    {
     "name": "stdout",
     "output_type": "stream",
     "text": [
      "A= 5\n",
      "[-0.95892427 -0.54402111  0.65028784  0.91294525 -0.13235175]\n"
     ]
    }
   ],
   "source": [
    "import numpy as np\n",
    "\n",
    "def func(x):\n",
    "    A = float(input('A= '))\n",
    "    return np.sin(A * x)\n",
    "\n",
    "# Example usage\n",
    "x = np.array([1, 2, 3, 4, 5])\n",
    "result = func(x)\n",
    "print(result)\n",
    "\n",
    "        "
   ]
  },
  {
   "cell_type": "code",
   "execution_count": 8,
   "metadata": {},
   "outputs": [
    {
     "name": "stdout",
     "output_type": "stream",
     "text": [
      "Do you want more? Y/N [Y]: \n",
      "Y\n"
     ]
    }
   ],
   "source": [
    "reply = input('Do you want more? Y/N [Y]: ')\n",
    "if not reply:\n",
    "    reply = 'Y'\n",
    "\n",
    "print(reply)"
   ]
  },
  {
   "cell_type": "code",
   "execution_count": 10,
   "metadata": {},
   "outputs": [
    {
     "data": {
      "text/plain": [
       "'hello world'"
      ]
     },
     "metadata": {},
     "output_type": "display_data"
    }
   ],
   "source": [
    "display('hello world')"
   ]
  },
  {
   "cell_type": "code",
   "execution_count": 11,
   "metadata": {},
   "outputs": [
    {
     "data": {
      "text/plain": [
       "'hello world'"
      ]
     },
     "metadata": {},
     "output_type": "display_data"
    }
   ],
   "source": [
    "x = 'hello world'\n",
    "display(x)"
   ]
  },
  {
   "cell_type": "code",
   "execution_count": null,
   "metadata": {},
   "outputs": [],
   "source": []
  }
 ],
 "metadata": {
  "kernelspec": {
   "display_name": "Python 3 (ipykernel)",
   "language": "python",
   "name": "python3"
  },
  "language_info": {
   "codemirror_mode": {
    "name": "ipython",
    "version": 3
   },
   "file_extension": ".py",
   "mimetype": "text/x-python",
   "name": "python",
   "nbconvert_exporter": "python",
   "pygments_lexer": "ipython3",
   "version": "3.11.3"
  }
 },
 "nbformat": 4,
 "nbformat_minor": 4
}
