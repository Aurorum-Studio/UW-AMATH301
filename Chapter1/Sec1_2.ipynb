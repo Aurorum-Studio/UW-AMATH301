{
 "cells": [
  {
   "cell_type": "markdown",
   "metadata": {},
   "source": [
    "Logic, Loops and Iterations"
   ]
  },
  {
   "cell_type": "markdown",
   "metadata": {},
   "source": [
    "Simple loop for summation"
   ]
  },
  {
   "cell_type": "code",
   "execution_count": 1,
   "metadata": {},
   "outputs": [
    {
     "data": {
      "text/plain": [
       "1"
      ]
     },
     "metadata": {},
     "output_type": "display_data"
    },
    {
     "data": {
      "text/plain": [
       "3"
      ]
     },
     "metadata": {},
     "output_type": "display_data"
    },
    {
     "data": {
      "text/plain": [
       "6"
      ]
     },
     "metadata": {},
     "output_type": "display_data"
    },
    {
     "data": {
      "text/plain": [
       "10"
      ]
     },
     "metadata": {},
     "output_type": "display_data"
    },
    {
     "data": {
      "text/plain": [
       "15"
      ]
     },
     "metadata": {},
     "output_type": "display_data"
    }
   ],
   "source": [
    "import numpy as np\n",
    "\n",
    "a = 0\n",
    "for j in range(0, 5):\n",
    "    a = a + (j+1)    \n",
    "    display(a)\n",
    "    "
   ]
  },
  {
   "cell_type": "markdown",
   "metadata": {},
   "source": [
    "Simple loop for summation stepping by 2"
   ]
  },
  {
   "cell_type": "code",
   "execution_count": 4,
   "metadata": {},
   "outputs": [
    {
     "data": {
      "text/plain": [
       "1"
      ]
     },
     "metadata": {},
     "output_type": "display_data"
    },
    {
     "data": {
      "text/plain": [
       "4"
      ]
     },
     "metadata": {},
     "output_type": "display_data"
    },
    {
     "data": {
      "text/plain": [
       "9"
      ]
     },
     "metadata": {},
     "output_type": "display_data"
    }
   ],
   "source": [
    "a = 0\n",
    "for j in range(0,5,2):\n",
    "    a = a + (j+1)    \n",
    "    display(a)\n",
    "    \n"
   ]
  },
  {
   "cell_type": "markdown",
   "metadata": {},
   "source": [
    "Simple loop for summation over defined set of numbers"
   ]
  },
  {
   "cell_type": "code",
   "execution_count": 5,
   "metadata": {},
   "outputs": [
    {
     "data": {
      "text/plain": [
       "1"
      ]
     },
     "metadata": {},
     "output_type": "display_data"
    },
    {
     "data": {
      "text/plain": [
       "6"
      ]
     },
     "metadata": {},
     "output_type": "display_data"
    },
    {
     "data": {
      "text/plain": [
       "10"
      ]
     },
     "metadata": {},
     "output_type": "display_data"
    }
   ],
   "source": [
    "a = 0\n",
    "loop = [1,5,4]\n",
    "for j in loop:\n",
    "    a = a + j \n",
    "    display(a)\n",
    "    \n",
    "    "
   ]
  },
  {
   "cell_type": "markdown",
   "metadata": {},
   "source": [
    "Bisection example"
   ]
  },
  {
   "cell_type": "code",
   "execution_count": 6,
   "metadata": {},
   "outputs": [
    {
     "data": {
      "text/plain": [
       "(-10.0, 10.0, -10.0, 20.0)"
      ]
     },
     "execution_count": 6,
     "metadata": {},
     "output_type": "execute_result"
    },
    {
     "data": {
      "image/png": "iVBORw0KGgoAAAANSUhEUgAAAYQAAAD8CAYAAAB3u9PLAAAABHNCSVQICAgIfAhkiAAAAAlwSFlzAAALEgAACxIB0t1+/AAAADh0RVh0U29mdHdhcmUAbWF0cGxvdGxpYiB2ZXJzaW9uMy4yLjIsIGh0dHA6Ly9tYXRwbG90bGliLm9yZy+WH4yJAAAgAElEQVR4nO2deXgc1Zmv36837dZiybsx3sDsBhwctgDBSQjJDZBMZiAZQrYhIfsyd4Zk7sxwb2YuIZlJZjJkY8hCCCThuYGEELaQsIfNbMbGeAODF9mWLVmyrF197h/V1V1qq9stdXVX19H3Po+eVneXqs6pUp1ffcv5jhhjUBRFUZRI0A1QFEVRKgMVBEVRFAVQQVAURVFSqCAoiqIogAqCoiiKkkIFQVEURQF8EAQRmS8iD4rIehFZJyKfT33eIiJ/EJFNqdfm4purKIqilAopdh6CiMwGZhtjnhORBuBZ4GLgw0CnMebrInI10GyM+ftiG6woiqKUhqItBGNMuzHmudTvB4D1wFzgIuCm1GY34YiEoiiKUqEUbSGM2ZnIkcAjwPHAG8aYJs93XcaYQ9xGInIlcCVAXV3dqcuWLfOtPUqGTXt6SUSFlroqtu47yOK2emoT0aCbpWSxvr2HaTVxOg8OMaOhipnTqn3bd9IY1u3sYea0amY0VPm2XyV4nn322b3GmLZi9+ObIIhIPfAw8K/GmNtFZH8hguBlxYoVZvXq1b60RxnLO//zUeY21fDBlUfwkZ8+wx2fOoOTj9CwTqWx4l/+wNuPm8WtT73B585fypfedpRv+96w6wDv+I9H+M5lJ/Oek+b4tl8leETkWWPMimL340uWkYjEgV8Dtxhjbk99vDsVX3DjDHv8OJYyeUQAcX7XClaViTHOJYoI+F1nbFtnHwDzm2t83a9iD35kGQnwI2C9MeZbnq/uBK5I/X4F8Ntij6VMHndwkfT74Nqi5MbgCHdEhNGkvxdpe5cjCPOaa33dr2IPMR/2cSZwOfCSiLyQ+uyrwNeB20TkY8AbwPt9OJZSBAI4+g1qI1QmxhgiIkQigs96wLaufmriUVrrE/7uWLGGogXBGPMYmQfPbM4vdv+Kf4jkvlBKZZAssctoXnON56FAUcaiM5WnCNlji7qMKhNjDCJCRISk34LQ1c88jR8oeVBBmCIYDIIgGlSuaNzr4sQQ/N339q4+5rdo/EDJjQrCFMJxGTmKoBZChWLcoDK+WgjdfcMcGBhhvgaUlTyoIEwR3LElbSGoIlQkBtJBZT+v0bZ0hpG6jJTcqCDkYcOuA9y3blfQzfAFN51Rc4wqm6QxqaCyv1lGbsqpuoyUfKgg5OGmJ7byv36zNuhm+IagaUaVjvG4jEb9tBA6+wG1EJT8qCDkYXTUMDTic2QvILLdD+oxqkwMmSwjP11GW/cdpLEmTlOtzkFQcqOCkAeD8X22aFAYAG9QWZ1GFUmmdIWQ9PFZ5PV9fRw5Xd1FSn5UEPKQNDDsd+5fwOhE5crGifWI7y6j1/Ye5MjWOt/2p9iJCkIejIERSywEUk+eqgeVjTMxzREFv9JOB0dG2dndz4LpKghKflQQ8mCM4zKyJUVTRNJlCyzpknW4LqNoRHy7Rts6+zAGFraqy0jJjwpCHtz7cXg0/KOn2wMtY1PZZKqd+jcxbeteJ+VULQTlcKgg5MG9IUf8jO4FhEnlt6ffq9OoInGuk/ha/nrrvoMALFRBUA6DCkIe3Ac0GywEyJqYZkeXrCNpHOsg4qPLaOu+g0yrjtFUG/dnh4q1qCDkwb0fRyzINMp2GakeVDCpLCO/XEav7+tjYWudlr1WDosKQh4yLqPwD59usJJ0cbvw98k2vKva+Vn++rW9BzV+oBSECkI+0i6j8FsI4GYZOb+rHFQe3gKE4lP568GRUXbu79c5CEpBqCDkwX1Cs2G2shtEVqdB5eJdCyEa8ceK29bZT9Kgs5SVglBByINNQeWMy8j9IKiWKLlIlsBltHlPLwCL2+qL3pdiPyoIebAp7RRwahmJ1jKqVLJdRn4Ypls6UoIwQwVBOTwqCHnIZBmFf/BMDzZZ75XKIe3W8zHLaPOeXmY3VlNfFSt6X4r9qCDkwfXhWhNU9q6prIJQcXivSdRHl9EStQ6UAlFByIN7P9qQduoiGlaueCKp9RCK9VQmk4YtHb0aP1AKRgUhD0mLLAS3imb6fXBNUXKQDiqL81Ns+etdPQP0DY1q/EApGBWEPFgVQyBV/jrtMgp/n2zDG+fxY8U0N8NoiVoISoGoIOQhmXYZhd9CyEbloPLwlheJRorPMkoLgloISoGoIOQhE1QO//DpLt6uQeXKJVO6wgn+FxtU3tzRS2NNnNZ6XUdZKQxfBEFEfiwie0Rkreeza0Rkh4i8kPq50I9jlZN0UNkCQYDUQKNrplUsXgvBCSoX7zJaMqNei9opBeOXhfBT4IJxPv+2MWZ56udun45VNty8cBtcRpkc94AbouTEpP7NRKRol5Exhk27D7BU3UXKBPBFEIwxjwCdfuyrknB1wAYLwXUZed8rlYW33lSxE9P2HBikq2+YY2ZP86l1ylSg1DGEz4jImpRLqbnEx/IdmywEyIohBNsUZRz8LF2xvr0HgGWzGnxomTJVKKUgfB9YDCwH2oF/H28jEblSRFaLyOqOjo4SNmfiWFXcLvUq6fUQgmuLMj6Za5SyEIpQhFd2HQBg2Sy1EJTCKZkgGGN2G2NGjTFJ4L+B03Jsd4MxZoUxZkVbW1upmjMpMkHl8FsITl+86yGoIlQarosoEnFjCEUIQnsPcxqradRlM5UJUDJBEJHZnreXAGtzbVupZFxGdgyeuqZyZeOdmCZF1jJ6ZdcBlmn8QJkgvpRAFJFfAOcCrSKyHfhn4FwRWY5jCW8FPuHHscpJ0iKXERZnGW3r7GNuUw2RSLg7l7baUrWMJqsHQyNJNu/p5a3LZvjXOGVK4IsgGGMuG+fjH/mx7yBxJwrZ4jLyDpc2SBxAx4FBzv23h/jhX5/KqmNnBt2c4hhTumLytYy2dPQykjRqISgTRmcq5yFtIVjiMnJwg8p29Kl3cITRpGFv72DQTSmaMaUrinAZvbLLyTA6RjOMlAmigpCHTHE7CywExqad2oIrbEMWXKN0UFnEiSFMsksv7+whEYtwZGudj61TpgIqCHlIu4wssBCMMWMLV4S/S0DGihscDr8gmCyX0WQthJd2dHPs7GnEo3p7KxND/2PyYFstI7BxTWV7LIRDahlNQhCSScPaHT2cOK/R38YpUwIVhDwk0xaCHYONN+3UFtwxc3DEgmvkqXYamWQto9f2HaR3cIQT5qogKBNHBSEPNs1UhqwsIzu6lH6qHrJCEJxXx0KYXOD/pe3dAJw4r8nPpilTBBWEPCQtSzsF+9ZDcPthlyA48xBGJ2EirNneTU08yuI2DSgrE0cFoQCsCSpLJqwc/h45JNNZRqMBt6R4squdTkYQXtqxn+PmTCOmAWVlEuh/TR7cwWbYAgvBxbY1le20EKC+OsbBodEJFbgbTQWUT9CAsjJJVBDyYFOWUXYPwt8jB/ep2oqgcupVBFrqqhhNGnoGhgv++017DtA/PKoBZWXSqCDkwaYsI4x9k9LANgshMzGtpc6pUrrv4FDBf796axcApy4I3dIjSoWggpAH94nNniyjTPlrW0wEmwTB6x1qqasCoHMCgvDs6120NVRxREut301TpggqCPlwXUYWWAgZd4RdE9OMRRPTMhVphel1CWBigvDM1k7edGRz+horykRRQchDJqgc/sHTyTKybz0EuyamOa8CtExQENq7+9ne1c+pC1pK1DplKqCCkAd3zJxM+l+lYtuaylZNTEu9OkHliQmCGz9405EaP1AmjwpCHqyamEZqJS7Lile4gVgbLARvtdPqeJS6RJR9vYUKQie1iSjH6hoIShGoIOTBptIVJivLyBaXUTIdVLZgYprHZQTQUp+g82Bh6zw8vbWL5fObdEKaUhT635MHY1FQ2SXjMrJEESwKKmeXF2mpTRSUdrqvd5D17T2csXh6CVunTAVUEPKQWUIz/IOnwS1dkXof/i4BdqWdZkTauUotdQm6+g4vCI9t3gvA2UvbStU0ZYqggpCHzBKaFgw27prKGlSuWA6xEOqq6CwghvDopr001sQ5XmcoK0WigpAH94nNBgvBJW0jWGIiWGUhpPoSSSnC9HrHZZSv7pQxhkc3dXDWklaiEbsSBpTyo4KQh6RNQWUAC9dUzlQ7tUAQPNVOwXEZDY4k6RvKHTDftKeX3T2DnL20tQwtVGxHBSEPtgWVvSmn4Zc4B28m2EQqg1Yih7qMDj8X4ZGNHQCcpYKg+IAKQh5sCiq7CmBdUNkjbWG3ErwT04B0+Yp8mUb3rdvF0TMbmNes9YuU4lFByEOmuF24Bxpws4w8tYzsUYQ0YZ+cll5TOXWNmtMWwvhzEXb3DLD69S4uPGF2eRqoWI8KQh5c/7QtpSsEj4UQZEN8xHtpwh5YTmZZcZkCd+OviXDPS+0YA+86cVYZWqdMBVQQ8pCJIZjQP1Fbu6ayRS4jb7VT8MYQxrcQfv9SO0fNrGfJjIbyNE+xHhWEPHhFIOzrKhtIVTu1K83IWGQhZJeuqK+KkYhGxo0h7Op23EXvOmFO+RqoWI8vgiAiPxaRPSKy1vNZi4j8QUQ2pV5DV4bRO9hYEVj2YEtvvP0IvSCkXl0rTkSY2VjFax0HD9n250++DsDFJ6sgKP7hl4XwU+CCrM+uBv5ojFkK/DH1PlR4B5uwz1Y2xjjWgWTe24C3H4MhL3CXPTEN4Jyj2nh00176PXMRBoZHueWp11l1zEwWTK8rdzMVi/FFEIwxjwCdWR9fBNyU+v0m4GI/jlVOksYQjzo3Z9gthLTLyC6PkVUuIzeJwXuJLjhuNv3DozyyqSP92R3P76Crb5iPnbWwzC1UbKeUMYSZxph2gNTrjPE2EpErRWS1iKzu6OgYb5PAMAYSqXLCNqyJAJbPQwi5IKSviUcRVi5qobEmzn1rdwFwcHCEHzy8hePmTGPlQl0dTfGXwIPKxpgbjDErjDEr2toqq1pj0hjiMecUDYc9qJwqbmfdmsreeQghF+1M6YqMIsSjEVYdM5MH1u9maCTJ1be/xLbOPv7hXcfo2smK75RSEHaLyGyA1OueEh6rJBgssxAsHEBschmlZ5NnXaYLjp9Fz8AIJ/7v+/jdizv58tuP5ozFWqpC8Z9YCfd9J3AF8PXU629LeKySYIwhnhIEGwrcgX0uo6Sxx2WUHCeoDHD+shl88y9OZN3OHmoTUa46Z3EArVOmAr4Igoj8AjgXaBWR7cA/4wjBbSLyMeAN4P1+HKucGAOJlMsozAXujCdYmVkxzQ68/Qh96Yr0xLSxn0ciwvtXzA/fDaSEDl8EwRhzWY6vzvdj/0FhS5aRd5ay65+2xUKwyWWUPTFNUcpN4EHlSsbgtRDsGEFtXVMZYCjs8xBSrxaGepSQoIKQB2NIxxDCHFTOZDPaN9KMsRBCfI3AO8nOvuukhAMVhBy4N2fCoqCySEbgBofDPXi62FTtNDNTOdh2KFMXFYQcuAONTUFlgGhEqEtEOTg4EmCL/MOqiWlZ1U4VpdyoIOQg20IIdVA59Zquolkdo9cWQbBpYpoGlZWAUUHIgWshZOYhhHuw8VJfFeOALYLg+T3sbrDsNSsUpdyoIOTANd/jFmQZZQ809dVxegcsEQTvxLSQi7bNwX8lHKgg5MCkLQTn5gyzhZDtm26ostNlFPYYQrraqeqBEhAqCDlwBxobYgjZ1FfF7LEQbAoqq8tICRgVhBy4A42bZTRqgcvIxcagclUsEnpBYJxqp4pSTlQQcnBIUDnEaacu6RhCVYwDA8PBNsYnxghCiN16oBaCEjwqCDlIp53G7HMZNaQsBBuW0XT97tXxaPiX0Ey9Zlc7VZRyoYKQA5vSTjP57c5AU18VI2mgfzjcAyhkBtGqePhdRhpUVoJGBSEXHlcEhDztNKuscn21U+TWisBy+jpFQy8IOjFNCRoVhBy4T2uZ8tfhHmy81Fc5gmDD5DRX7KrjEQvWQ3BQC0EJChWEHLg3pw0rpmU/ebqCYIOF4PatOha1IKis1U6VYFFByIFrIUQjQjQioS5u5+LNMgKsSD11PXk2xBC02qkSNCoIOfA+VUcjEuoso+yWuzGEAzZYCKneWRFD0GqnSsCoIOQgvQ6xCPGIhNxlNHbCU0NVHLDDQvDOQwh9DEGDykrAqCDkwBvgi8ciDI2GP0XTJZNlFP7Jaem0UwtmKuvENCVoVBBy4MYQIiI01ybo6gvv4JmdvVJXFQVssRAyE9NCH1ROvWrpCiUoVBBy4DXfW+sT7D0wGGh7iiF7QnJVLEoiFrEj7dTjMhpNmlDXnNKJaUrQqCDkwGshtNZXsbc3vIIwHg2WVDx1LYSahOMGC/Xsa3UZKQGjgpADb0p4a30V+w4OBdqeokgPNJmRxpaKp+5lmtFQBcCenoHgGlMkmmWkBI0KwmFwXEZV7O8bDm09o/RA4/nMljURXOGe3VgNwK4wC4JmGSkBo4KQA6/LaHp9AoB9vSG2ErKwZV1l9zrNbqoBYFd3iAUh9aoGghIUKgg58KYAttY77oiwxhHGS2dsqLbDQnCxwULwPoQoShDESn0AEdkKHABGgRFjzIpSH9MPvDdnW4NjIXSEVRBSr4e4jCywEFyxq01EaaiOsTvMFoK6jJSAKbkgpDjPGLO3TMfyBa/5nrYQQpx6mo09QeWMcM+aVh1qCyGdMKuKoASEuoxy4C1d4QpCWDONvH1xqa+KW+EySnrcYbMaq9nVE2LRzioxoijlphyCYID7ReRZEbky+0sRuVJEVovI6o6OjjI0pzC85nttIkp1PBJaC2G8qVoN1TGGRpPhX3bSsxrcrGnV7OruD7ZBRaBBZSVoyiEIZxpjTgHeCXxaRN7i/dIYc4MxZoUxZkVbW1sZmlMY7pNnRCRtJYQ1qOziHWhsWRPBuxrcrMZqOg4MhnYxo2RSg8pKsJRcEIwxO1Ove4A7gNNKfUw/yF520hGEsLqMnFfvMNOQKnDX3R/eGk0wtizHzGnVJA3hvU6pV5UDJShKKggiUiciDe7vwNuBtaU8pl+46+FExghCuC0EL/NbagF4o7Mv4Jb4Q0Qk9KmnWu1UCZpSWwgzgcdE5EXgaeD3xph7S3xMXzBZz2ttDYkQP3keOtIsbK0D4NWOg0E0yTdcN4uIYyEAoY0jaLVTJWhKmnZqjHkVOKmUxygV2csZttZX0XlwkNGkIRq2NQ7HcRlNr0vQUB3jtb3hFgSvbM9yLYSQzkVIZ4Np7p8SEPqvl4OM+e4Mo9PrEiQNdPWF00rIRkRY1FbPq3t7g25KUXivU0ttgkQ0EtrUU52YpgSNCkIOMjOVnfetDeEtX5ErnXFRax2vhdxllJmYBpGIMGNaFbvDGkPQaqdKwKgg5CB7EJ2V8k/v3B8+/7Q3V9/LotY6dnYP0D8U3rkI2Zbc/OZatnSE0+pRC0EJGhWEHCSzZvcePasBEVi7oyfIZvnKwjYnsBzmOILx5p0CpyxoYt3OHvqGwje/QiemKUGjgpCD7Ke1huo4C1vrWLO9O7A2TZbsORUui1rrgZALAmP7tWJBC6NJwwvb9gfWpsmi1U6VoFFByMmhN+eJcxtZuyOEgpDDFXFkqzMX4dWQuljA6Zu3X6cc0QzAs1u7gmlQEWSvfa0o5UYFIQfJcSYJnTCviV09A+w5EM6gZTa1iRhzGqtDbiGYMaLdWBvnqJn1rH49fILgogaCEhQqCDkYLxB7wtxGgNBZCfl80wvb6ti0J7wWQtIc2q9TF7Tw3Btd6UlrYcFotVMlYFQQcpCddgpw3JxpiBC6OEJ24NXLKUc0s25nN/tDOr/CcRmNHUBXLGjmwMAIG/ccCKhVk0NLVyhBo4KQg/QY6rk566piLGmrD52F4DLek+e5R7eRNPDoplCtX5TGYA4Jjpy2sAWAhzdUTjn1QvBW2FWUIFBByIHJkfFxwrxGXti2P1TuiPHEzWX5/GYaa+I8FLLBM82hesD8llpOXdDMr57Zltc6qjTS2WABt0OZuqgg5CDXGHre0TPY2zvE01s7y92kkhCNCGcvbeXhjR2hEjkXw/hP1JeddgSv7j3Ik6+G5zqpy0gJGhWEHKRjCFmF7FYdM5PaRJTfvrAjiGYVRa5xxhG5QV5uD9+ku2TSjDuAvvvE2UyrjnHr02+Uv1GTJBP8V0VQgkEFIQe5cvdrElHecdws7n5pV2iWn8wu75DNW45qQwTuW7erjK3yB8P4Qlcdj/LeU+Zx79p23tgXkjUfQuTeUuxEBSEH2aUrvLxn+Ry6+4d5ZGM4A7HZtDVUcf6yGdzy1Buhq2tkTG6h+8Q5i0hEI/zTnWtDEUtImrFZbYpSblQQcpAvd/+sJa1Mr0vwsye2lrFFk6eQYOXfnL2IzoND/Pq57eVplE8YxncZAcxurOFLbz+ahzZ0cPdLlW/9OH1RRVCCQwUhB7myjADi0QifPGcxj27ay5+3VL6VUEiw8rSFLZw0v4kbH32V0RAFl7NLV2RzxekLOH7uNK6+fQ2v7KrsGMnh+qIopUYFIQeHK0V8+ekLmN1YzXX3bgiFO+JwiAhXnbOIrfv6uPmJrUE3p2CMyf9UHYtG+OHlK6hLxPjwj5+p6HhCdqE+RSk3Kgg5ONwkoep4lC+uOooXt+3nV89sK2PLJk6hZZXfcdwszjmqjevu3cC2zsodOL0UMojObarhpx99E/3Do1z03cd4Ysu+srRtoiQPI26KUmpUEHKQriuT5/5836nzOHPJdK753To27q7cMgmF1sgREf7ve08gGhG+fNuLDI0ky9G8oijUzbJs1jR+8+kzmV5fxQdvfJJr7lxHz8Bwyds3IdRlpASMCkIOxqt2mk00Inz7r5ZTXxXjU7c8R9fBcNYD8jK3qYZ/ufh4nt7aydW3r6l4d1h2tdN8LGyt445PncFfv3kBNz2xlTO//ieuu/eVkrmRBoZH2dU9wPauPgaGD5+9pS4jJWhiQTegcinsqXpGQzX/ddkpXPGTp/nQj5/m5x9fSWNNvBwNLJiJrsR18clzeX1fH99+YCONNXH+8V3HHjJBr1IYr9ppPhqq4/yfi47nL1fM5/sPbeGHD2/h+w9t4aR5jZy9tI1TFjSxuK2eec21RA/T52TS0Nk3RPv+AV7vPMjr+/p4Y18fW/cd5I3OPnb1DKRjURGBxW31fOTMhbx/xTzi0UOfxYwxWulUCRQVhBykb+QCbKjTF0/nh399KlfevJpLb3iSG69YwdymmtI2cAJM5iH/c+cvYX//ED95fCudB4e47n0nUh2P+t+4InH6NvFB9Pi5jXz3g6ewvauPu9a0c9+6XXz/4S3pDKtENMK8lhoaquPUJaLUJqIMjxr6h0cZGB6lq2+I3d2DDI2Odau11lexYHotpy+azhHTa5nRUE1EYGf3AI9s7OCrd7zErU+/zq+uPJ26qrG3n5mguCmK36gg5CDtMipwsDlv2QxuvOJNfOaW57jo+sf5zqXLOWNJawlbWFpEhH9697G0NVTxjXs3sHF3L9d/4GQWt9UH3bQscs9DKIR5zbV88pzFfPKcxRwYGGbj7gNs2XOQLXt72dbZR+/gKH2DI3T1DROPCjXxKNPrEixsrWNWYzWzp1Uzq7GGBdNrOaKl9pBB3ssXVy3ld2va+cIvn+fvfr2G6y87eUwQ2ZmYpoqgBEdFCcJgBQUxTXoJzcL/5pyj2rjj02dw5c3P8oEbn+KjZy7kS28/ivo8g0R5yD3rOh8iwqfOXcKyWQ18+bYXufA/H+WT5yzmqnMXV4y1YHyc3dtQHefUBS2cuqDFnx1mISK856Q57Ojq57p7X+GMxdP54MoF6e8NRh1GSqBUVFB54+4DfPWOlypiicpCgsrjsWRGA7//7Nlc/uYF/Pjx1zj3mw9x2zPbAq0kWmxc+K3LZnLvF97C246dyX/+cROrvvUw963bVREB5/EWyKl0PnnOIk6a18gtT44tvGdyFWZSlDJRUYIwvS7Bbc9s49xvPsR/PrCJ3sGRwNqSGewmfofWJKJ87eLj+c2nz2R+Sw1/9+s1XPTdx3lww55AB9FixpqZ06q5/gOncOvfrKQmHuUTNz/Lxd99nD+8vDtQsXNy9wM7/KQQEd6zfC4vt/fwasfY5UtD1hXFMkouCCJygYhsEJHNInJ1vm3nNNVw/xffwluWtvHtBzZy+rV/5Bv3vhKIxeDNDpksy+c3cftVZ/Aff7Wcfb2DfOQnz/A/rn+Me15qL+sgOtEso3ycsbiVuz9/Nv/3khPo7Bvib362mgu/8yi/eX4Hw6Pld/mF9aH6XSfMBuD3a9rTnx1u1rWilJqSCoKIRIHvAu8EjgUuE5Fj8/3NorZ6fnD5qfzm02dy1pJWvv/wFs76+oNc/es1bOko32LwZpJ+92xEhItPnstD//M8rnvfCfQOjHDVLc+x6tsPc8tTrxeUn15pxKMRPrDyCB788rl86y9PYng0yRd+9QJnX/cgP3h4C9195Zvwla/aaSUzq7GaNx3ZzF0eQdBqp0rQSCldGCJyOnCNMeYdqfdfATDGXDve9iuObDSr//msMZ/1D4/S3t1PR+8gxkBzbYLZjdU0VMdK6jvu6B1kS0cvy+c3UR3zL4BqMOzrHaK9u5+DQ6PEIsLMadXMmlY9bm66H/QNjbBmRzdLZ9Qzva7K9/0bDPv7hmnvHqBnYJiICDMaqpjVWO3ruRuPzR29HBgY5uT5zSU9TinY1TPA1n0HOWleEzXxKK/t7WXfwSFWlCiordiLfPTuZ40xK4rdT6nTX+YC3kI/24GV3g1E5ErgSoAT5xyau18Tj7KotZ75zbXs6hlgd88AXX1D1CVizG6spqU+QSRETgNBaK2vYnp9gp6BEdr397Njfz87u/tpq69idmM1NfGgs5ImhiA01yZork1wcGiE9m7nOu3qGaClNsHspmrqq0or4GGkodq5zn1DI9TEowQfolemOqUeecYbAcb83xtjbgBuAFixYoXhI78fd0dxYD7QNjzK7c/t4MbHXuXVHQeZ3VjNh884kktPO8LXGcIPrt7G3/2/NTz6vvOY3zydEeoAABWMSURBVFLr235dBGhM/Wze08uPHnuN25/bzuC+JOcd3cbfnL2I0xdP98Ud8sauHi79j0f53jmncGHKd10q6oAlQH33AD97Yiu3PPUG3VuHWT6/iY+fvZALjptFzEdL6PpfPs9zb+znkY+c59s+y8XowDCXXnM/Xz1xGVe+ZTE33vES96/bxeqPvC3opilh46P+PGyVOqi8HWccd5kH7Cxmh9XxKB9YeQQPfPEcfvLhN7GorY5r73mFM679I9+6f4N/BcvKuOD5khn1XPveE/jz1W/lC6uWsmZ7Nx+48Sne9Z3HuGvNzqIzkw5XyrsUzGqs5u8uWMYTX3kr/+ei4+jqG+Iztz7POd98iBsffZUDPl2nMNf/mVYdp7EmzrbOfmDys64VxS9KLQjPAEtFZKGIJIBLgTv92HEkIpy3bAa3fPzN3P25szn36Bl850+becs3HuSHD28pOljrLqFZzpmj0+ur+MKqo3j86rfy9feewODIKJ+59Xku+d6feWZr56T3W8gCOaWiNhHjQ6cfyZ++fC43XH6qUzzv9+s5/do/ce0964sW8LAvKjOvuYZtXU5xPWOMBpWVQCmpIBhjRoDPAPcB64HbjDHr/D7OsXOm8d0PnsJdnz2L5fObuPaeV3j7tx/hoQ17Jr1PP1M1J0p1PMqlpx3B/V88h2+870Tau/t5/w+e4KqfP8vunuAn7U2GaER4+3GzuO2Tp/PbT5/JectmcMMjr/LWf3uY3704eaPREO5yD/Oba9NrT2gtIyVoSj4PwRhztzHmKGPMYmPMv5byWMfPbeSnHzmNWz++klhU+PBPnuErt6+hb2jiE9yCsBCyiUaEv3zTfB7823P50tuO4k+v7OFt33qYOyc4gBomP8muFJw0v4n/uuxkfvvpM5nbVM1nf/E8n//l85NyIyVDbiLMb6lhe1c/xphU6YoQd0YJPRU1U9kvzljSyj2fP5urzl3ML5/Zxnuuf3zCNe+D8LvnojYR43PnL+Wez5/Nkhn1fO4Xz3PNnesKnghWARUmxuXEeU38+qoz+NLbjuKuNe287/t/nvhKbeHWA+Y11zI4kkynVauFoASJlYIAUBWL8vcXLOPnH1tJx4FBLv7e47ywbX/Bf59xGVXOHbqorZ5ffeJ0PnbWQn7656184uZnJxQrqaCupIlFI3zu/KX87KOnsat7gEu+9/iEJiAawj27d36Lk2q9rbPfWdsh4PYoUxtrBcHlzCWt3PGpM6irivKhHz3F+vaegv6ukCU0gyAejfCP7z6Wf73keB7csIeP37SawZHCRKHCujKGM5e0cvunzsAY+OsbnyrYUvCz2mkQzG92Upq3d/WFXtyU8GO9IIDzZH3rx99MXVWMy3/0FDv29x/2bzK1jCrzBv3gygV88y9O4rHNe/nH36zNm5paqS6jbJbMaODmj63k4OAIV978bEFClwz5KmPz0oLQ77i/wtsVxQKmhCAAzG+p5eaPrWRgOMkXf/lCemWsXLhB5Uq+P//i1Hl89q1LuG31dn72xOuH3T4MT5/HzpnGt/9qOevbe/i3+zYcdvuw+91rElFa6xNs6+wL9ZwKxQ6mjCCAMwHsaxcfx9NbO7n+T5vzblvpFoLLF1cdxXlHt3HtPevZ3jW+myVdqK+cDSuC84+ZyeVvXsB/P/raYedfhMT4ycu85lq2dfXpmspK4EwpQQC45OR5vOekOXz3wc3szOM6SlZSmlEeIhHhXy45AUH42l0vj7tNWFxGXr564TG0NVTx7/fntxLCWu3Uy/yW2nRQOczxECX8TDlBAPj7dy4D4L/+tOmw24bhBp3bVMNnz1/Cfet28+imjpzbhWncrElEueqcxTz5aidPvrovz5bhn93bUhunZ2A45TIKeWeUUDMlBWFuUw0fWHkEt63ezta9B8fdJh1DCMkN+vGzFjFzWhU3PvraId8FOeu6GD6w8gjaGqr4jwc25twmGfIYAkAiFmFwOJlyGSlKcExJQQD41HmLiUWEHz126AAKlTUxrRASsQiXvukIHtnUMeFJeJVKdTzKR89cyJOvdvL6vvGF2wa/e1UsytBoEq1tpwTNlBWEGQ3VnH/MDO5Z287IODN+kyEJKnu57LQjiIhw69PZi7e7QeXw9MXl3Sc65brvW7dr3O9tyMxJxCKMJg0jo8kQXiHFJqasIAC8+8Q57O0d4unXDs1kySyhWe5WTZ5ZjdWsOmYGt63extBIRuTSMeUQ9cVlfkstx86exn3rdo/7vQ1B5aqYcxsODCdD9QCi2MeUFoTzjp5BbSLK7zzr2roEWTK6GN57yjw6Dw5NqExHpfOO42bx3Btd7DlwaKXXpAV+90RKEAZHRkP3/6bYxZQWhJpElFXHzOTete2HFIoLq5tl5cIWRBiTmRO2eEg27zh+JsbAH14e30oI+yBalVp3emA4Gbr/N8UuprQgALzz+Fl09Q0f8kSdiSEE0KgiaKpNsGzWNJ56zZuqGcKJCB6OntnA/JYaHtl4aEptyKtfA14LIRl6cVPCzZQXhJOPaAZg3Y7uMZ9nXEbhu0PfvKiFZ1/vOqQWUBj7Ak67T5zbxIZdBw75zoaCcG4MYbDIVf4UpVimvCDMnFbF9LoE63aOrYKaWSAniFYVx8qF0xkYTrJmuyNyYXcZARw1s4HXO/voHxo7aIa92ilkLISB4VENKiuBMuUFQUQ4ds60QwShEtdDKJSVC1sAeCoVRwi3w8jh6Fn1GAOb94xdKyHs1U7Bk2WkLiMlYKa8IAAcN6eRTXsOjEnVxJjQ3pzNdQmWzWrgqax02rD2BxwLAWDD7rFuI2MIt+mDJ4YwrFlGSrCoIADHzZnG8Khho2ewCfvqVUfPamBranZvxmUU3h4tmF5HIhZhw65DLbnw9sohnWU0ollGSrCoIOAIAsDLHreRwYTanzu3qYb2/QOMJk3exXPCQjQiLJ1Rz4bdWctrWlDLyHUZjSbDa5UqdqCCABw5vY66RJR1OzOZRmEvmja3uYaRpGF3T2YyV5j7A0766casTKOwCzdkBAHCGbNS7EEFAWdNgWNmT+Nlz3rLYS+J4F2aMR0gD645vnDUrAZ29QzQ3Tec/izswg2ZGAKE/xop4UYFIcXSmfW85imFHfZSxHObagDYsd+OyqfgWAgAG/dkrARbqp26hF3clHCjgpCipS5BV98wydQUZUO4Kp1mkxaErv7Mimnh7Q4AR7bWAYwp721LtVOXkHdFCTkqCCla6qoYTRq6+x13RDLkAT538XbHZRTOukzZNNXEAdLXCMLv2gONISiVgwpCiul1CQD2HRwCwm8hgGMl7MizbnTYmDauIITbtQdjLYSwz7pWwk3JBEFErhGRHSLyQurnwlIdyw9aUoLQmRIEG8oqz22uYUdXf3qqcsj1jWhEaKiOjRUEwt+vWETSQhB2K04JN6W2EL5tjFme+rm7xMcqiowgDAJ2zICd11zL9v396cqtNtBUGz/UZRRge/xARDJWQtg7o4QadRmlmF6f5TIy4c9vn9tUw9BIkr29jsiFuzcOjTVZgmBBtVPIZBqFvydKmCm1IHxGRNaIyI9FpLnExyqKtIXQm4khhH2ccTONtnc5WTk2DJxNNQn29w2l39tQ7RQycYSwP4Qo4aYoQRCRB0Rk7Tg/FwHfBxYDy4F24N9z7ONKEVktIqs7Og5dAKVcVMWi1FfF0hZC0gILYV6LKwj2BJazLQTHHRbu6wSZTKOQ/8spISdWzB8bY1YVsp2I/DdwV4593ADcALBixYpAvd0tdYl0UNkG3/TsaY4g7Ox2ylfYMNhMy3YZhbgqrZeECoJSAZQyy2i25+0lwNpSHcsvvIKQtCC/vbbK8Uv3D40A4Rc4yASVvQX7bOhXJoZgQ2+UsFKUhXAYviEiy3Hc8VuBT5TwWL4wvS6RfpqG8D95xqMR4lGh36KlGRtr4gyPGvqHR6lNxFIxhJBfKNRCUCqDkgmCMebyUu27VLTUJVi7M7PspA3ByupYNL3spA2DjTtbeX/fMLWJmDNfxIJ+ZWIIFnRGCS2aduqhpd5xGRljrFiaEaA6EfWsQxz+/jRmzVa2IRsMPIIQcDuUqY0KgofpdQmGRw0HBkessRBq4lHrXEbgWAhgR7VT0CwjpTJQQfDQUlcFOHMRbAgqA1THI2lBsKA7NNYeaiFYoAeZGELA7VCmNioIHrwF7owFQWVwLISB4SRgx2CTcRmlJqdZElROZxlZ0BclvKggePAWuDMWrMQFUB2PHn6jENFU61yjdJlyC4oQAiSi7kzlgBuiTGlUEDx4C9zZUMsIxgqCDU+fdYko0YjYF1SOu7eiBZ1RQosKggdvgbukBTOVwXEZ2YSI0FgT9wSV7bhOroVgg7gp4UUFwUNtIkZVLML+vmErFsgBZ+U0l/D3xqHJU77CmmqncQ0qK8GjgpBFVSzC0EiSpCWPntVx7/KMATbER7z1jGyJ9SSiblA54IYoUxoVhCxi0QijSWNN9optQWUYu0iOo9vhv06uhWDD/5wSXlQQsohGhJGksSZ7xRtDsGHgBLJiCHakB2sMQakEVBCyiEWE0WTSGlfEGEGwoD8wdk0EC1Y6BbwxBBt6o4QVFYQsvBaCDea7jS6jxpo4PQPDJJPGnmqnUV1TWQkeFYQsHAvBYMu69NUJ+wShKhbBGBh1ixBaMIhWpYTbBnFTwosKQhauhWDLxDQbXUZumqkr3Db0Kx1DCLgdytRGBSGLWCTC6KixJobgTTu1BVeojXF+bBhG0zGE8HdFCTH2jRZFkrYQsMN8tzHLyHW3J43BhpXtAKrUQlAqgFIuoRlKYtFUlhF2PK3Z6DJyhTppjDXrVmQsBAs6o4QWtRCyyMQQ7Lg5qyzMMnKvSzKJNSvb6UxlpRJQCyELN8uIiB3mu50WgvOaNPYElXUeglIJqIWQhWshgB2uiBoL006jkbEuIwsuk85UVioCFYQsYhGnlpGT3x7+u3NMcTsrhk6Py8i4pSvC3y+tdqpUAioIWXhjCFZYCLa7jCxJD1YLQakEVBCycGsZ2RKstLF0xZgsI+ywfHSmslIJqCBkEY0IIxZNTKuKRdL9sKA7AEQPcRkF3CAfUAtBqQRUELJw5iHYIwgiQnXMrpRGtx9Jt3RFoK3xh3hUUv2yoTdKWFFByCKaCiob7KhlBPZlGh0yMc2CYI+IjLHmFCUIVBCyiKXLX9vzRF0dcy+zHR2KpEtXYM1CRuC4jWzpixJOihIEEXm/iKwTkaSIrMj67isisllENojIO4prZvmIuuWvLal2CpkS2JZ055Cgsi2j6IdOP5JVx8wMuhnKFKbYmcprgfcCP/R+KCLHApcCxwFzgAdE5ChjzGiRxys5joWQJGnLggiMTT21gUy1U2ftaxuyjAD+9h1HB90EZYpTlIVgjFlvjNkwzlcXAb80xgwaY14DNgOnFXOschH1LJBjw4QnyAiCHb3JCMJoEowl1U4VpRIQY4p/FBaRh4C/NcasTr2/HnjSGPPz1PsfAfcYY/7fOH97JXBl6u3xOFZHpdMK7A26EQWg7fQXbad/hKGNEJ52Hm2MaSh2J4d1GYnIA8Cscb76B2PMb3P92Tifjas8xpgbgBtSx1ptjFkx3naVhLbTX7Sd/hKGdoahjRCudvqxn8MKgjFm1ST2ux2Y73k/D9g5if0oiqIoZaJUaad3ApeKSJWILASWAk+X6FiKoiiKDxSbdnqJiGwHTgd+LyL3ARhj1gG3AS8D9wKfLjDD6IZi2lNGtJ3+ou30lzC0MwxthCnWTl+CyoqiKEr40ZnKiqIoCqCCoCiKoqQouyAUW+5CRFpE5A8isin12lyGNv9KRF5I/WwVkRdybLdVRF5KbedLGtgE23mNiOzwtPXCHNtdkDrHm0Xk6gDa+U0ReUVE1ojIHSLSlGO7sp/Pw50bcfhO6vs1InJKOdqV1Yb5IvKgiKxP3UufH2ebc0Wk2/O/8E/lbmeqHXmvYYWcz6M95+kFEekRkS9kbRPI+RSRH4vIHhFZ6/msoDFwUve5MaasP8AxwNHAQ8AKz+fHAi8CVcBCYAsQHefvvwFcnfr9auC6Mrf/34F/yvHdVqC13OfUc/xrcCYI5tsmmjq3i4BE6pwfW+Z2vh2IpX6/Ltc1LPf5LOTcABcC9+DMtXkz8FQA13k2cErq9wZg4zjtPBe4q9xtm+g1rITzOc7/wC5gQSWcT+AtwCnAWs9nhx0DJ3ufl91CMMWXu7gIuCn1+03AxaVp6aGIU8viL4FflOuYJeA0YLMx5lVjzBDwS5xzWjaMMfcbY0ZSb5/EmadSCRRybi4CfmYcngSaRGR2ORtpjGk3xjyX+v0AsB6YW842+Ejg5zOL84EtxpjXA2xDGmPMI0Bn1seFjIGTus8rKYYwF9jmeb+d8f/JZxpj2sG5MYAZZWiby9nAbmPMphzfG+B+EXk2VZIjCD6TMr1/nMOULPQ8l4uP4jwhjke5z2ch56aizp+IHAmcDDw1zteni8iLInKPiBxX1oZlONw1rKjziVOUM9cDXyWcTyhsDJzUeS222um4SInLXZSCAtt8GfmtgzONMTtFZAbwBxF5JaXwZWkn8H3gazjn7Ws47q2PZu9inL/1/TwXcj5F5B+AEeCWHLsp+fnMopBzE+j/qRcRqQd+DXzBGNOT9fVzOG6P3lQs6Tc4E0TLzeGuYSWdzwTwHuAr43xdKeezUCZ1XksiCKa05S52i8hsY0x7yrTcM5k2ZnO4NotIDKfU96l59rEz9bpHRO7AMdt8HcAKPbci8t/AXeN8VZayIgWczyuAdwPnm5TTc5x9lPx8ZlHIuamIsiwiEscRg1uMMbdnf+8VCGPM3SLyPRFpNcaUtVBbAdewIs5nincCzxljdmd/USnnM0UhY+CkzmsluYwKLXdxJ3BF6vcrgFwWh9+sAl4xxmwf70sRqRORBvd3nMBpWSu3ZvleL8lx/GeApSKyMPVEdCnOOS0bInIB8PfAe4wxfTm2CeJ8FnJu7gQ+lMqOeTPQ7Zrv5SIVy/oRsN4Y860c28xKbYeInIZzr+8rXysLvoaBn08POT0AlXA+PRQyBk7uPg8gan4JjnoNAruB+zzf/QNOZHwD8E7P5zeSykgCpgN/BDalXlvK1O6fAp/M+mwOcHfq90U4kfwXgXU4rpFyn9ubgZeANamLPzu7nan3F+JkpmwJqJ2bcfybL6R+flAp53O8cwN80r32OKb4d1Pfv4QnU66M5+8sHPN/jeccXpjVzs+kztuLOIH7MwJo57jXsNLOZ6odtTgDfKPns8DPJ45AtQPDqXHzY7nGQD/ucy1doSiKogCV5TJSFEVRAkQFQVEURQFUEBRFUZQUKgiKoigKoIKgKIqipFBBUBRFUQAVBEVRFCXF/wcHyRN/r6AkbQAAAABJRU5ErkJggg==\n",
      "text/plain": [
       "<Figure size 432x288 with 1 Axes>"
      ]
     },
     "metadata": {
      "needs_background": "light"
     },
     "output_type": "display_data"
    }
   ],
   "source": [
    "import matplotlib.pyplot as plt\n",
    "\n",
    "dx = 0.1\n",
    "x = np.arange(-10,10+dx,dx)\n",
    "y = np.exp(x)-np.tan(x)\n",
    "y2 = 0*y # plot the y=0 line\n",
    "\n",
    "plt.plot(x,y)\n",
    "plt.plot(x,y2)\n",
    "plt.axis([-10, 10, -10, 20])\n"
   ]
  },
  {
   "cell_type": "markdown",
   "metadata": {},
   "source": [
    "Algorithm for bisection"
   ]
  },
  {
   "cell_type": "code",
   "execution_count": 2,
   "metadata": {},
   "outputs": [
    {
     "data": {
      "text/plain": [
       "-3.0964111328124995"
      ]
     },
     "metadata": {},
     "output_type": "display_data"
    },
    {
     "data": {
      "text/plain": [
       "13"
      ]
     },
     "metadata": {},
     "output_type": "display_data"
    }
   ],
   "source": [
    "xr = -2.8; xl = -4\n",
    "for j in range(0, 100):\n",
    "    xc = (xr + xl)/2\n",
    "    fc = np.exp(xc) - np.tan(xc)   \n",
    "    if ( fc > 0 ):\n",
    "        xl = xc   \n",
    "    else:\n",
    "        xr = xc\n",
    "        \n",
    "    if ( abs(fc) < 1e-5 ):        \n",
    "        display(xc); display(j)\n",
    "        break"
   ]
  },
 "metadata": {
  "kernelspec": {
   "display_name": "Python 3 (ipykernel)",
   "language": "python",
   "name": "python3"
  },
  "language_info": {
   "codemirror_mode": {
    "name": "ipython",
    "version": 3
   },
   "file_extension": ".py",
   "mimetype": "text/x-python",
   "name": "python",
   "nbconvert_exporter": "python",
   "pygments_lexer": "ipython3",
   "version": "3.11.3"
  }
 },
 "nbformat": 4,
 "nbformat_minor": 2
}
