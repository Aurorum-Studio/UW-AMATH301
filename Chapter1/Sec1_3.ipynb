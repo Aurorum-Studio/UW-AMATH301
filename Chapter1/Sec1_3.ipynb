{
 "cells": [
  {
   "cell_type": "markdown",
   "metadata": {},
   "source": [
    "Newton-Raphson Iterations"
   ]
  },
  {
   "cell_type": "code",
   "execution_count": 1,
   "metadata": {},
   "outputs": [
    {
     "name": "stdout",
     "output_type": "stream",
     "text": [
      "-3.096414598500469\n",
      "2.194579281487863e-06\n"
     ]
    }
   ],
   "source": [
    "import numpy as np\n",
    "\n",
    "x = -4  # initial guess\n",
    "\n",
    "for j in range(0,100):\n",
    "    \n",
    "    x = x - ( np.exp(x) - np.tan(x) )/( np.exp(x)-(1/np.cos(x))**2 )\n",
    "    #display(x)\n",
    "\n",
    "    fc = np.exp(x) - np.tan(x)\n",
    "\n",
    "    if abs(fc) < 1e-5:\n",
    "        break\n",
    "\n",
    "print(x)\n",
    "print(fc)\n"
   ]
  },
  {
   "cell_type": "markdown",
   "metadata": {},
   "source": [
    "Newton-Raphson Iterations with Dynamic Allocation of Vector"
   ]
  },
  {
   "cell_type": "code",
   "execution_count": 3,
   "metadata": {},
   "outputs": [
    {
     "name": "stdout",
     "output_type": "stream",
     "text": [
      "-3.096414598500469\n",
      "2.194579281487863e-06\n",
      "-3.096414598500469\n",
      "2.194579281487863e-06\n"
     ]
    }
   ],
   "source": [
    "x = np.array([-4])  # initial guess\n",
    "\n",
    "for j in range(1000):\n",
    "    x = np.append(\n",
    "        x, x[j] - (np.exp(x[j]) - np.tan(x[j])) \n",
    "        / (np.exp(x[j]) - 1 / np.cos(x[j]) ** 2))\n",
    "    fc = np.exp(x[j + 1]) - np.tan(x[j + 1])\n",
    "\n",
    "    if abs(fc) < 1e-5:\n",
    "        break\n",
    "\n",
    "print(x[j + 1])\n",
    "print(fc)\n",
    "\n",
    "\n",
    "# (2) Pre-allocating the space (should run faster, but you end up wasting some space)\n",
    "x = np.empty(1001)\n",
    "x[0] = -4\n",
    "\n",
    "for j in range(1000):\n",
    "    x[j + 1] = x[j] - (np.exp(x[j]) - np.tan(x[j])) / (\n",
    "        np.exp(x[j]) - 1 / np.cos(x[j]) ** 2\n",
    "    )\n",
    "    fc = np.exp(x[j + 1]) - np.tan(x[j + 1])\n",
    "\n",
    "    if abs(fc) < 1e-5:\n",
    "        break\n",
    "\n",
    "print(x[j + 1])\n",
    "print(fc)\n",
    "\n",
    "\n"
   ]
  },
  {
   "cell_type": "code",
   "execution_count": null,
   "metadata": {},
   "outputs": [],
   "source": []
  }
 ],
 "metadata": {
  "kernelspec": {
   "display_name": "Python 3 (ipykernel)",
   "language": "python",
   "name": "python3"
  },
  "language_info": {
   "codemirror_mode": {
    "name": "ipython",
    "version": 3
   },
   "file_extension": ".py",
   "mimetype": "text/x-python",
   "name": "python",
   "nbconvert_exporter": "python",
   "pygments_lexer": "ipython3",
   "version": "3.11.3"
  }
 },
 "nbformat": 4,
 "nbformat_minor": 2
}
