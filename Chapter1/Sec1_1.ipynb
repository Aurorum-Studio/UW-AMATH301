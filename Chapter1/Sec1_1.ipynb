{
 "cells": [
  {
   "cell_type": "markdown",
   "metadata": {},
   "source": [
    "Section 1.1:  Vectors and Matrices"
   ]
  },
  {
   "cell_type": "code",
   "execution_count": 2,
   "metadata": {},
   "outputs": [
    {
     "data": {
      "text/plain": [
       "[1, 3, 2]"
      ]
     },
     "metadata": {},
     "output_type": "display_data"
    },
    {
     "data": {
      "text/plain": [
       "array([1, 3, 2])"
      ]
     },
     "metadata": {},
     "output_type": "display_data"
    },
    {
     "data": {
      "text/plain": [
       "matrix([[1, 3, 2]])"
      ]
     },
     "metadata": {},
     "output_type": "display_data"
    }
   ],
   "source": [
    "import numpy as np\n",
    "\n",
    "# ways to make a row vector\n",
    "x1 = [1, 3, 2]  \n",
    "x2 = np.array([1,3,2])  \n",
    "x3 = np.matrix([1,3,2])\n",
    "\n",
    "display(x1)\n",
    "display(x2)\n",
    "display(x3)"
   ]
  },
  {
   "cell_type": "code",
   "execution_count": 3,
   "metadata": {},
   "outputs": [
    {
     "data": {
      "text/plain": [
       "matrix([[1],\n",
       "        [3],\n",
       "        [2]])"
      ]
     },
     "metadata": {},
     "output_type": "display_data"
    },
    {
     "data": {
      "text/plain": [
       "array([[1],\n",
       "       [3],\n",
       "       [2]])"
      ]
     },
     "metadata": {},
     "output_type": "display_data"
    }
   ],
   "source": [
    "# ways to make a column vector\n",
    "x1 = np.matrix([[1], [3], [2]])\n",
    "x2 = np.array([[1], [3], [2]])\n",
    "\n",
    "display(x1)\n",
    "display(x2)"
   ]
  },
  {
   "cell_type": "code",
   "execution_count": 4,
   "metadata": {},
   "outputs": [
    {
     "data": {
      "text/plain": [
       "array([ 0.,  1.,  2.,  3.,  4.,  5.,  6.,  7.,  8.,  9., 10.])"
      ]
     },
     "metadata": {},
     "output_type": "display_data"
    },
    {
     "data": {
      "text/plain": [
       "array([ 0,  2,  4,  6,  8, 10])"
      ]
     },
     "metadata": {},
     "output_type": "display_data"
    },
    {
     "data": {
      "text/plain": [
       "array([0. , 0.2, 0.4, 0.6, 0.8, 1. ])"
      ]
     },
     "metadata": {},
     "output_type": "display_data"
    },
    {
     "data": {
      "text/plain": [
       "array([0, 2, 4, 6, 8])"
      ]
     },
     "metadata": {},
     "output_type": "display_data"
    },
    {
     "data": {
      "text/plain": [
       "array([0, 1, 2, 3, 4])"
      ]
     },
     "metadata": {},
     "output_type": "display_data"
    }
   ],
   "source": [
    "# make a vector over a range\n",
    "\n",
    "#   generic structure np.arange(beginning, end+h, step-size h)\n",
    "\n",
    "\n",
    "x1 = np.arange(0,10.1,1)   # go from 0 to 10 in steps of 1\n",
    "x1 = np.arange(0, 11, 1, endpoint=True) # Same as last line (Xavier)",
    "x2 = np.arange(0,11,2)\n",
    "x3 = np.arange(0,1.2,0.2)\n",
    "x4 = np.arange(0,9,2)\n",
    "x5 = np.arange(0,5)        # if h is not specified, then h=1\n",
    "\n",
    "display(x1)\n",
    "display(x2)\n",
    "display(x3)\n",
    "display(x4)\n",
    "display(x5)"
   ]
  },
  {
   "cell_type": "markdown",
   "metadata": {},
   "source": [
    "Constructing Matrices"
   ]
  },
  {
   "cell_type": "code",
   "execution_count": 6,
   "metadata": {},
   "outputs": [
    {
     "data": {
      "text/plain": [
       "array([[1, 3, 2],\n",
       "       [5, 6, 7],\n",
       "       [8, 3, 1]])"
      ]
     },
     "metadata": {},
     "output_type": "display_data"
    },
    {
     "data": {
      "text/plain": [
       "array([[1, 3, 2],\n",
       "       [5, 6, 7],\n",
       "       [8, 3, 1]])"
      ]
     },
     "metadata": {},
     "output_type": "display_data"
    },
    {
     "data": {
      "text/plain": [
       "7"
      ]
     },
     "metadata": {},
     "output_type": "display_data"
    },
    {
     "data": {
      "text/plain": [
       "array([5, 6, 7])"
      ]
     },
     "metadata": {},
     "output_type": "display_data"
    },
    {
     "data": {
      "text/plain": [
       "array([2, 7, 1])"
      ]
     },
     "metadata": {},
     "output_type": "display_data"
    }
   ],
   "source": [
    "# define a 3x3 matrix\n",
    "A = np.array([[1,3,2],[5,6,7],[8,3,1]]) \n",
    "A2 = np.array([[1,3,2],\n",
    "               [5,6,7],\n",
    "               [8,3,1]]) \n",
    "\n",
    "x1 = A[1,2]  # this gives the 2nd row, 3rd column value (rememer that indexing starts at 0)\n",
    "x2 = A[1,:]  # access the entire 2nd row\n",
    "x3 = A[:,2]  # access the entire 3rd column\n",
    "\n",
    "\n",
    "xp = A[1,0:2]\n",
    "\n",
    "display(A)\n",
    "display(A2)\n",
    "display(x1)\n",
    "display(x2)\n",
    "display(x3)"
   ]
  },
  {
   "cell_type": "code",
   "execution_count": 8,
   "metadata": {},
   "outputs": [
    {
     "data": {
      "text/plain": [
       "array([[1, 7, 9, 2],\n",
       "       [2, 3, 3, 4],\n",
       "       [5, 0, 2, 6],\n",
       "       [6, 1, 5, 5]])"
      ]
     },
     "metadata": {},
     "output_type": "display_data"
    },
    {
     "data": {
      "text/plain": [
       "array([3, 0])"
      ]
     },
     "metadata": {},
     "output_type": "display_data"
    },
    {
     "data": {
      "text/plain": [
       "array([1, 5, 5])"
      ]
     },
     "metadata": {},
     "output_type": "display_data"
    },
    {
     "data": {
      "text/plain": [
       "array([[7, 9, 2],\n",
       "       [3, 3, 4],\n",
       "       [0, 2, 6]])"
      ]
     },
     "metadata": {},
     "output_type": "display_data"
    },
    {
     "data": {
      "text/plain": [
       "(array([7, 9, 2]), array([9, 3, 2]))"
      ]
     },
     "metadata": {},
     "output_type": "display_data"
    }
   ],
   "source": [
    "# More complicated 4x4 matrix\n",
    "B = np.array([[1,7,9,2],[2,3,3,4],[5,0,2,6],[6,1,5,5]])\n",
    "\n",
    "x1 = B[1:3,1] #  extract 2nd and 3rd row of column 2\n",
    "x2 = B[3,1:]  #  extract 2nd through last column of row 4\n",
    "\n",
    "C = B[:-1,1:4]  # extract matrix of 2nd-4th columns and first to next to last rows\n",
    "\n",
    "D = ( B[0,1:4], B[0:3,2].T ) # extract 2nd-4th column of first row and put it on top of 3rd column, 1st-3rd row transposed\n",
    "\n",
    "display(B)\n",
    "display(x1)\n",
    "display(x2)\n",
    "display(C)\n",
    "display(D)\n"
   ]
  },
  {
   "cell_type": "code",
   "execution_count": 7,
   "metadata": {},
   "outputs": [
    {
     "name": "stdout",
     "output_type": "stream",
     "text": [
      "[3.+2.j 1.+0.j 8.+0.j]\n",
      "[3.+2.j 1.+0.j 8.+0.j]\n",
      "[3.-2.j 1.-0.j 8.-0.j]\n"
     ]
    }
   ],
   "source": [
    "# Complex matrices and transpose\n",
    "\n",
    "x = np.array([3+2j,1,8])\n",
    "\n",
    "x1 = x.T  # transpose\n",
    "x2 = np.conj(x)  # conjugate\n",
    "\n",
    "print(x)\n",
    "print(x1)\n",
    "print(x2)"
   ]
  },
  {
   "cell_type": "code",
   "execution_count": 10,
   "metadata": {},
   "outputs": [
    {
     "data": {
      "text/plain": [
       "array([-1,  2,  3,  5, -2])"
      ]
     },
     "metadata": {},
     "output_type": "display_data"
    },
    {
     "data": {
      "text/plain": [
       "[array([False,  True,  True,  True, False])]"
      ]
     },
     "metadata": {},
     "output_type": "display_data"
    },
    {
     "data": {
      "text/plain": [
       "array([3.-2.j, 1.-0.j, 8.-0.j])"
      ]
     },
     "metadata": {},
     "output_type": "display_data"
    },
    {
     "name": "stdout",
     "output_type": "stream",
     "text": [
      "[0 1 1 1 0]\n",
      "[0 2 3 5 0]\n",
      "[0 3 3 3 0]\n"
     ]
    }
   ],
   "source": [
    "# vector manipulations\n",
    "\n",
    "x = np.array([-1, 2, 3, 5, -2])\n",
    "\n",
    "x1 = [(x>0)]\n",
    "\n",
    "y1 = (x > 0) * 1\n",
    "y2 = (x > 0) * x\n",
    "y3 = (x > 0) * 3\n",
    "\n",
    "display(x)\n",
    "display(x1)\n",
    "display(x2)\n",
    "\n",
    "print(y1)\n",
    "print(y2)\n",
    "print(y3)"
   ]
  },
  {
   "cell_type": "code",
   "execution_count": null,
   "metadata": {},
   "outputs": [],
   "source": []
  },
  {
   "cell_type": "code",
   "execution_count": null,
   "metadata": {},
   "outputs": [],
   "source": []
  }
 ],
 "metadata": {
  "kernelspec": {
   "display_name": "Python 3 (ipykernel)",
   "language": "python",
   "name": "python3"
  },
  "language_info": {
   "codemirror_mode": {
    "name": "ipython",
    "version": 3
   },
   "file_extension": ".py",
   "mimetype": "text/x-python",
   "name": "python",
   "nbconvert_exporter": "python",
   "pygments_lexer": "ipython3",
   "version": "3.11.3"
  }
 },
 "nbformat": 4,
 "nbformat_minor": 4
}
